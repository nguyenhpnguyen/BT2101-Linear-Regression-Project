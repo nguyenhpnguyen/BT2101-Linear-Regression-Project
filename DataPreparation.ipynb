{
 "cells": [
  {
   "cell_type": "markdown",
   "metadata": {},
   "source": [
    "# Data Preparation"
   ]
  },
  {
   "cell_type": "markdown",
   "metadata": {},
   "source": [
    "## Importing useful libraries"
   ]
  },
  {
   "cell_type": "code",
   "execution_count": 5,
   "metadata": {
    "colab": {
     "base_uri": "https://localhost:8080/"
    },
    "id": "nGALsZAKGS7M",
    "outputId": "c1e3eacf-8d26-494b-84c4-8a7669a93f56"
   },
   "outputs": [],
   "source": [
    "import pandas as pd\n",
    "import numpy as np\n",
    "import scipy as sp\n",
    "import statsmodels.formula.api as smf\n",
    "import statsmodels.api as sm\n",
    "import matplotlib.pyplot as plt\n",
    "from statsmodels.iolib.summary2 import summary_col\n",
    "import seaborn as sn\n",
    "pd.options.mode.chained_assignment = None  # default='warn'"
   ]
  },
  {
   "cell_type": "markdown",
   "metadata": {
    "id": "pq0G_ngkJboG"
   },
   "source": [
    "## Importing raw data"
   ]
  },
  {
   "cell_type": "code",
   "execution_count": 6,
   "metadata": {
    "id": "ywSr76tOWwds"
   },
   "outputs": [],
   "source": [
    "df = pd.read_csv(r'resale-flat-prices-based-on-registration-date-from-jan-2017-onwards.csv')"
   ]
  },
  {
   "cell_type": "markdown",
   "metadata": {
    "id": "avxBeOrvGhkt"
   },
   "source": [
    "## Data filtering"
   ]
  },
  {
   "cell_type": "code",
   "execution_count": 7,
   "metadata": {
    "colab": {
     "base_uri": "https://localhost:8080/",
     "height": 423
    },
    "id": "HPq5Wt1BGcjV",
    "outputId": "343d667b-4741-4915-991c-891ca400d508"
   },
   "outputs": [
    {
     "data": {
      "text/html": [
       "<div>\n",
       "<style scoped>\n",
       "    .dataframe tbody tr th:only-of-type {\n",
       "        vertical-align: middle;\n",
       "    }\n",
       "\n",
       "    .dataframe tbody tr th {\n",
       "        vertical-align: top;\n",
       "    }\n",
       "\n",
       "    .dataframe thead th {\n",
       "        text-align: right;\n",
       "    }\n",
       "</style>\n",
       "<table border=\"1\" class=\"dataframe\">\n",
       "  <thead>\n",
       "    <tr style=\"text-align: right;\">\n",
       "      <th></th>\n",
       "      <th>month</th>\n",
       "      <th>town</th>\n",
       "      <th>flat_type</th>\n",
       "      <th>block</th>\n",
       "      <th>street_name</th>\n",
       "      <th>storey_range</th>\n",
       "      <th>floor_area_sqm</th>\n",
       "      <th>flat_model</th>\n",
       "      <th>lease_commence_date</th>\n",
       "      <th>remaining_lease</th>\n",
       "      <th>resale_price</th>\n",
       "    </tr>\n",
       "  </thead>\n",
       "  <tbody>\n",
       "    <tr>\n",
       "      <th>33</th>\n",
       "      <td>2017-01</td>\n",
       "      <td>ANG MO KIO</td>\n",
       "      <td>4 ROOM</td>\n",
       "      <td>472</td>\n",
       "      <td>ANG MO KIO AVE 10</td>\n",
       "      <td>10 TO 12</td>\n",
       "      <td>92.0</td>\n",
       "      <td>New Generation</td>\n",
       "      <td>1979</td>\n",
       "      <td>61 years 06 months</td>\n",
       "      <td>400000.0</td>\n",
       "    </tr>\n",
       "    <tr>\n",
       "      <th>34</th>\n",
       "      <td>2017-01</td>\n",
       "      <td>ANG MO KIO</td>\n",
       "      <td>4 ROOM</td>\n",
       "      <td>475</td>\n",
       "      <td>ANG MO KIO AVE 10</td>\n",
       "      <td>07 TO 09</td>\n",
       "      <td>91.0</td>\n",
       "      <td>New Generation</td>\n",
       "      <td>1979</td>\n",
       "      <td>61 years 06 months</td>\n",
       "      <td>400000.0</td>\n",
       "    </tr>\n",
       "    <tr>\n",
       "      <th>35</th>\n",
       "      <td>2017-01</td>\n",
       "      <td>ANG MO KIO</td>\n",
       "      <td>4 ROOM</td>\n",
       "      <td>629</td>\n",
       "      <td>ANG MO KIO AVE 4</td>\n",
       "      <td>01 TO 03</td>\n",
       "      <td>94.0</td>\n",
       "      <td>New Generation</td>\n",
       "      <td>1981</td>\n",
       "      <td>63 years 09 months</td>\n",
       "      <td>403000.0</td>\n",
       "    </tr>\n",
       "    <tr>\n",
       "      <th>36</th>\n",
       "      <td>2017-01</td>\n",
       "      <td>ANG MO KIO</td>\n",
       "      <td>4 ROOM</td>\n",
       "      <td>546</td>\n",
       "      <td>ANG MO KIO AVE 10</td>\n",
       "      <td>01 TO 03</td>\n",
       "      <td>92.0</td>\n",
       "      <td>New Generation</td>\n",
       "      <td>1981</td>\n",
       "      <td>63 years</td>\n",
       "      <td>410000.0</td>\n",
       "    </tr>\n",
       "    <tr>\n",
       "      <th>37</th>\n",
       "      <td>2017-01</td>\n",
       "      <td>ANG MO KIO</td>\n",
       "      <td>4 ROOM</td>\n",
       "      <td>131</td>\n",
       "      <td>ANG MO KIO AVE 3</td>\n",
       "      <td>01 TO 03</td>\n",
       "      <td>98.0</td>\n",
       "      <td>New Generation</td>\n",
       "      <td>1979</td>\n",
       "      <td>61 years 01 month</td>\n",
       "      <td>425888.0</td>\n",
       "    </tr>\n",
       "  </tbody>\n",
       "</table>\n",
       "</div>"
      ],
      "text/plain": [
       "      month        town flat_type block        street_name storey_range  \\\n",
       "33  2017-01  ANG MO KIO    4 ROOM   472  ANG MO KIO AVE 10     10 TO 12   \n",
       "34  2017-01  ANG MO KIO    4 ROOM   475  ANG MO KIO AVE 10     07 TO 09   \n",
       "35  2017-01  ANG MO KIO    4 ROOM   629   ANG MO KIO AVE 4     01 TO 03   \n",
       "36  2017-01  ANG MO KIO    4 ROOM   546  ANG MO KIO AVE 10     01 TO 03   \n",
       "37  2017-01  ANG MO KIO    4 ROOM   131   ANG MO KIO AVE 3     01 TO 03   \n",
       "\n",
       "    floor_area_sqm      flat_model  lease_commence_date     remaining_lease  \\\n",
       "33            92.0  New Generation                 1979  61 years 06 months   \n",
       "34            91.0  New Generation                 1979  61 years 06 months   \n",
       "35            94.0  New Generation                 1981  63 years 09 months   \n",
       "36            92.0  New Generation                 1981            63 years   \n",
       "37            98.0  New Generation                 1979   61 years 01 month   \n",
       "\n",
       "    resale_price  \n",
       "33      400000.0  \n",
       "34      400000.0  \n",
       "35      403000.0  \n",
       "36      410000.0  \n",
       "37      425888.0  "
      ]
     },
     "execution_count": 7,
     "metadata": {},
     "output_type": "execute_result"
    }
   ],
   "source": [
    "resale_data = df[df['flat_type']=='4 ROOM']\n",
    "resale_data.head()"
   ]
  },
  {
   "cell_type": "markdown",
   "metadata": {
    "id": "mF6jSZ1pGm_X"
   },
   "source": [
    "## Data transformation"
   ]
  },
  {
   "cell_type": "markdown",
   "metadata": {
    "id": "a5Omc4wuGxY8"
   },
   "source": [
    "### Separating `month` into `year` and `separate_month`"
   ]
  },
  {
   "cell_type": "code",
   "execution_count": 8,
   "metadata": {
    "colab": {
     "base_uri": "https://localhost:8080/"
    },
    "id": "WDMbvSJDGfJF",
    "outputId": "d2b87b05-c9c9-4614-8004-0be7f5679327"
   },
   "outputs": [
    {
     "data": {
      "text/plain": [
       "array([ 1,  2,  3,  4,  5,  6,  7,  8,  9, 10, 11, 12], dtype=int64)"
      ]
     },
     "execution_count": 8,
     "metadata": {},
     "output_type": "execute_result"
    }
   ],
   "source": [
    "resale_data['year'] = resale_data['month'].apply(lambda x: pd.to_numeric(x[0:4]))\n",
    "resale_data['separate_month'] = resale_data['month'].apply(lambda x: pd.to_numeric(x[5:7]))\n",
    "np.unique(resale_data['separate_month'])"
   ]
  },
  {
   "cell_type": "markdown",
   "metadata": {
    "id": "NHW2vXTQG9iN"
   },
   "source": [
    "### Merging 26 towns into 5 bigger regions"
   ]
  },
  {
   "cell_type": "code",
   "execution_count": 9,
   "metadata": {
    "id": "y7qWnr9PHIRz"
   },
   "outputs": [],
   "source": [
    "central = ['CENTRAL AREA', 'BUKIT TIMAH']\n",
    "rest_of_central = ['BISHAN', 'GEYLANG', 'KALLANG/WHAMPOA','MARINE PARADE','QUEENSTOWN','TOA PAYOH','BUKIT MERAH']\n",
    "near_central = ['CLEMENTI','BUKIT BATOK','BUKIT PANJANG','ANG MO KIO','SERANGOON','HOUGANG','BEDOK']\n",
    "further_central = ['JURONG EAST','CHOA CHU KANG','SENGKANG','YISHUN','TAMPINES']\n",
    "far_central = ['JURONG WEST','PASIR RIS','PUNGGOL','SEMBAWANG','WOODLANDS']\n",
    "region = [central, rest_of_central, near_central, further_central, far_central]\n",
    "def region_finder(x):\n",
    "    for i in range(0,4):\n",
    "        if x in region[i]:\n",
    "            break\n",
    "    return i\n",
    "resale_data['proximity'] = resale_data['town'].apply(region_finder)"
   ]
  },
  {
   "cell_type": "markdown",
   "metadata": {
    "id": "MEeajB_gHKIu"
   },
   "source": [
    "### Creating new variable `average_level` from the existing variable `storey_range`"
   ]
  },
  {
   "cell_type": "code",
   "execution_count": 10,
   "metadata": {
    "id": "-ml7HbdFHQTm"
   },
   "outputs": [],
   "source": [
    "def range_to_lvl(x):\n",
    "  x = (int(x[:2]) + int(x[7:]))/2\n",
    "  return x\n",
    "resale_data['average_level'] = resale_data['storey_range'].apply(range_to_lvl)"
   ]
  },
  {
   "cell_type": "markdown",
   "metadata": {
    "id": "JJg07I2fHSfl"
   },
   "source": [
    "### Changing the unit of `remaining_lease` from *years-months* to *months*"
   ]
  },
  {
   "cell_type": "code",
   "execution_count": 11,
   "metadata": {
    "colab": {
     "base_uri": "https://localhost:8080/"
    },
    "id": "0QIueAaBHYox",
    "outputId": "0895d453-5ee4-4f35-d13b-fb0044bc001c"
   },
   "outputs": [],
   "source": [
    "resale_data['remain_y'] = resale_data['remaining_lease'].apply(lambda x: pd.to_numeric(x[0:2]))\n",
    "resale_data['remain_m'] = resale_data['remaining_lease'].apply(lambda x: pd.to_numeric(x[9:11]) if len(x)>8 else pd.to_numeric('00'))\n",
    "np.unique(resale_data['remain_m'])\n",
    "\n",
    "resale_data['remain_lease_m'] = (resale_data['remain_y']*12) + resale_data['remain_m']"
   ]
  },
  {
   "cell_type": "markdown",
   "metadata": {
    "id": "adgXrQPYHeVR"
   },
   "source": [
    "### Dividing `year` into 2 periods (before & after 2019)"
   ]
  },
  {
   "cell_type": "code",
   "execution_count": 12,
   "metadata": {
    "id": "r-PT3dsOHpdk"
   },
   "outputs": [],
   "source": [
    "def year_cat(x):\n",
    "    if x <= 2019:\n",
    "        return 0\n",
    "    else:\n",
    "        return 1\n",
    "resale_data['year_cat'] = resale_data['year'].apply(year_cat)"
   ]
  },
  {
   "cell_type": "markdown",
   "metadata": {
    "id": "m_H1elOqUTYd"
   },
   "source": [
    "### Creating new variable `central` from the existing variable `proximity`\n",
    "`central = 1` if the flat is located in the Central region, otherwise `central = 0`."
   ]
  },
  {
   "cell_type": "code",
   "execution_count": 13,
   "metadata": {
    "id": "Iww3-15pUTYe"
   },
   "outputs": [],
   "source": [
    "resale_data['central'] = resale_data['proximity'].apply(lambda x: 1 if (x < 2) else 0)"
   ]
  },
  {
   "cell_type": "markdown",
   "metadata": {
    "id": "99PQNMdsJVwV"
   },
   "source": [
    "## Creating new variables"
   ]
  },
  {
   "cell_type": "markdown",
   "metadata": {
    "id": "hZ9ysiHAKmLO"
   },
   "source": [
    "### Number of Hospitals"
   ]
  },
  {
   "cell_type": "code",
   "execution_count": 14,
   "metadata": {
    "id": "VEcH6IdoJq-9"
   },
   "outputs": [],
   "source": [
    "cond = [(resale_data['town'] == 'ANG MO KIO'), (resale_data['town'] == 'BEDOK'), (resale_data['town'] == 'BISHAN'), (resale_data['town'] == 'BUKIT BATOK'), (resale_data['town'] == 'BUKIT MERAH'), (resale_data['town'] == 'BUKIT PANJANG'),\n",
    "    (resale_data['town'] == 'BUKIT TIMAH'), (resale_data['town'] == 'CENTRAL AREA'), (resale_data['town'] == 'CHOA CHU KANG'), (resale_data['town'] == 'CLEMENTI'), (resale_data['town'] == 'GEYLANG'),\n",
    "    (resale_data['town'] == 'HOUGANG'), (resale_data['town'] == 'JURONG EAST'), (resale_data['town'] == 'JURONG WEST'), (resale_data['town'] == 'KALLANG/WHAMPOA'), (resale_data['town'] == 'MARINE PARADE'),\n",
    "    (resale_data['town'] == 'PASIR RIS'), (resale_data['town'] == 'PUNGGOL'), (resale_data['town'] == 'QUEENSTOWN'), (resale_data['town'] == 'SEMBAWANG'), (resale_data['town'] == 'SENGKANG'),\n",
    "    (resale_data['town'] == 'SERANGOON'), (resale_data['town'] == 'TAMPINES'), (resale_data['town'] == 'TOA PAYOH'), (resale_data['town'] == 'WOODLANDS'), (resale_data['town'] == 'YISHUN')]\n",
    "val = [2,0,1,1,3,0,7,3,0,1,0,1,2,0,0,1,0,3,1,0,3,1,2,0,0,2]\n",
    "\n",
    "# no. hospitals (continuous)\n",
    "resale_data['n_hospitals'] = np.select(cond, val)\n",
    "# no. hospitals (categorical)\n",
    "resale_data['hospitals'] = resale_data['n_hospitals'].astype(\"category\")"
   ]
  },
  {
   "cell_type": "markdown",
   "metadata": {
    "id": "GrjIHUq2UTYj"
   },
   "source": [
    "### Number of MRT stations"
   ]
  },
  {
   "cell_type": "code",
   "execution_count": 15,
   "metadata": {
    "id": "B_n8J_7_UTYj"
   },
   "outputs": [],
   "source": [
    "cond2 = [(resale_data['town'] == 'ANG MO KIO'), (resale_data['town'] == 'BEDOK'), (resale_data['town'] == 'BISHAN'), (resale_data['town'] == 'BUKIT BATOK'), (resale_data['town'] == 'BUKIT MERAH'), (resale_data['town'] == 'BUKIT PANJANG'),\n",
    "    (resale_data['town'] == 'BUKIT TIMAH'), (resale_data['town'] == 'CENTRAL AREA'), (resale_data['town'] == 'CHOA CHU KANG'), (resale_data['town'] == 'CLEMENTI'), (resale_data['town'] == 'GEYLANG'),\n",
    "    (resale_data['town'] == 'HOUGANG'), (resale_data['town'] == 'JURONG EAST'), (resale_data['town'] == 'JURONG WEST'), (resale_data['town'] == 'KALLANG/WHAMPOA'), (resale_data['town'] == 'MARINE PARADE'),\n",
    "    (resale_data['town'] == 'PASIR RIS'), (resale_data['town'] == 'PUNGGOL'), (resale_data['town'] == 'QUEENSTOWN'), (resale_data['town'] == 'SEMBAWANG'), (resale_data['town'] == 'SENGKANG'),\n",
    "    (resale_data['town'] == 'SERANGOON'), (resale_data['town'] == 'TAMPINES'), (resale_data['town'] == 'TOA PAYOH'), (resale_data['town'] == 'WOODLANDS'), (resale_data['town'] == 'YISHUN')]\n",
    "val2 = [3,5,4,2,7,2,8,23,2,1,8,3,4,1,4,3,1,1,9,2,0,2,6,4,4,3]\n",
    "\n",
    "# no. mrt stations (continuous)\n",
    "resale_data['n_mrt'] = np.select(cond2, val2)\n",
    "# no. mrt stations (categorical)\n",
    "resale_data['mrt'] = resale_data['n_mrt'].astype('category')"
   ]
  },
  {
   "cell_type": "markdown",
   "metadata": {},
   "source": [
    "## Export updated data"
   ]
  },
  {
   "cell_type": "code",
   "execution_count": 16,
   "metadata": {
    "id": "B_n8J_7_UTYj"
   },
   "outputs": [],
   "source": [
    "resale_data.to_csv(r'resale-flat-prices-updated.csv')"
   ]
  }
 ],
 "metadata": {
  "colab": {
   "provenance": []
  },
  "kernelspec": {
   "display_name": "Python 3 (ipykernel)",
   "language": "python",
   "name": "python3"
  },
  "language_info": {
   "codemirror_mode": {
    "name": "ipython",
    "version": 3
   },
   "file_extension": ".py",
   "mimetype": "text/x-python",
   "name": "python",
   "nbconvert_exporter": "python",
   "pygments_lexer": "ipython3",
   "version": "3.11.4"
  }
 },
 "nbformat": 4,
 "nbformat_minor": 1
}
