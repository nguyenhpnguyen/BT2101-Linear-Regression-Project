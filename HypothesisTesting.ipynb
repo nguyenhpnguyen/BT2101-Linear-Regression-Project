{
 "cells": [
  {
   "cell_type": "markdown",
   "metadata": {},
   "source": [
    "# Hypothesis Testing"
   ]
  },
  {
   "cell_type": "markdown",
   "metadata": {},
   "source": [
    "## Importing useful libraries"
   ]
  },
  {
   "cell_type": "code",
   "execution_count": 2,
   "metadata": {
    "colab": {
     "base_uri": "https://localhost:8080/"
    },
    "id": "nGALsZAKGS7M",
    "outputId": "c1e3eacf-8d26-494b-84c4-8a7669a93f56"
   },
   "outputs": [],
   "source": [
    "import pandas as pd\n",
    "import numpy as np\n",
    "import scipy as sp\n",
    "import statsmodels.formula.api as smf\n",
    "import statsmodels.api as sm\n",
    "import matplotlib.pyplot as plt\n",
    "from statsmodels.iolib.summary2 import summary_col\n",
    "import seaborn as sn\n",
    "pd.options.mode.chained_assignment = None  # default='warn'"
   ]
  },
  {
   "cell_type": "markdown",
   "metadata": {
    "id": "pq0G_ngkJboG"
   },
   "source": [
    "## Importing data"
   ]
  },
  {
   "cell_type": "code",
   "execution_count": 3,
   "metadata": {
    "id": "ywSr76tOWwds",
    "scrolled": true
   },
   "outputs": [],
   "source": [
    "resale_data = pd.read_csv(r\"resale-flat-prices-updated.csv\")"
   ]
  },
  {
   "cell_type": "markdown",
   "metadata": {},
   "source": [
    "## Multivariable regression models"
   ]
  },
  {
   "cell_type": "markdown",
   "metadata": {
    "id": "UYPnw-ChGGcn"
   },
   "source": [
    "### **Hypothesis 1:** Proximity to central Singapore has an effect on resale price of 4-room HDB flat from 2017 onwards."
   ]
  },
  {
   "cell_type": "code",
   "execution_count": 58,
   "metadata": {
    "colab": {
     "base_uri": "https://localhost:8080/"
    },
    "id": "klKVTFz_XxPU",
    "outputId": "95fc5551-2ac3-4209-8aad-71f8e6a54e08"
   },
   "outputs": [
    {
     "name": "stdout",
     "output_type": "stream",
     "text": [
      "                             OLS Regression Results                             \n",
      "================================================================================\n",
      "Dep. Variable:     np.log(resale_price)   R-squared:                       0.555\n",
      "Model:                              OLS   Adj. R-squared:                  0.555\n",
      "Method:                   Least Squares   F-statistic:                 2.143e+04\n",
      "Date:                  Fri, 13 Oct 2023   Prob (F-statistic):               0.00\n",
      "Time:                          21:21:40   Log-Likelihood:                 19520.\n",
      "No. Observations:                 51638   AIC:                        -3.903e+04\n",
      "Df Residuals:                     51634   BIC:                        -3.900e+04\n",
      "Df Model:                             3                                         \n",
      "Covariance Type:              nonrobust                                         \n",
      "==================================================================================\n",
      "                     coef    std err          t      P>|t|      [0.025      0.975]\n",
      "----------------------------------------------------------------------------------\n",
      "Intercept         12.2371      0.012   1046.261      0.000      12.214      12.260\n",
      "proximity         -0.2148      0.001   -221.652      0.000      -0.217      -0.213\n",
      "floor_area_sqm     0.0047      0.000     44.257      0.000       0.004       0.005\n",
      "remain_lease_m     0.0009   5.06e-06    176.281      0.000       0.001       0.001\n",
      "==============================================================================\n",
      "Omnibus:                      551.828   Durbin-Watson:                   0.519\n",
      "Prob(Omnibus):                  0.000   Jarque-Bera (JB):              356.636\n",
      "Skew:                           0.049   Prob(JB):                     3.61e-78\n",
      "Kurtosis:                       2.605   Cond. No.                     1.54e+04\n",
      "==============================================================================\n",
      "\n",
      "Notes:\n",
      "[1] Standard Errors assume that the covariance matrix of the errors is correctly specified.\n",
      "[2] The condition number is large, 1.54e+04. This might indicate that there are\n",
      "strong multicollinearity or other numerical problems.\n",
      "\n",
      "================================\n",
      "               log(resale_price)\n",
      "--------------------------------\n",
      "Intercept      12.2371***       \n",
      "               (0.0117)         \n",
      "proximity      -0.2148***       \n",
      "               (0.0010)         \n",
      "floor_area_sqm 0.0047***        \n",
      "               (0.0001)         \n",
      "remain_lease_m 0.0009***        \n",
      "               (0.0000)         \n",
      "R-squared      0.5546           \n",
      "R-squared Adj. 0.5546           \n",
      "================================\n",
      "Standard errors in parentheses.\n",
      "* p<.1, ** p<.05, ***p<.01\n"
     ]
    }
   ],
   "source": [
    "lm1 = smf.ols(\"np.log(resale_price) ~ proximity + floor_area_sqm + remain_lease_m\", data = resale_data).fit()\n",
    "print(lm1.summary())\n",
    "print(summary_col(results = lm1, stars = True, model_names = ['log(resale_price)']))"
   ]
  },
  {
   "cell_type": "code",
   "execution_count": 31,
   "metadata": {
    "colab": {
     "base_uri": "https://localhost:8080/"
    },
    "id": "klKVTFz_XxPU",
    "outputId": "95fc5551-2ac3-4209-8aad-71f8e6a54e08"
   },
   "outputs": [
    {
     "name": "stdout",
     "output_type": "stream",
     "text": [
      "                             OLS Regression Results                             \n",
      "================================================================================\n",
      "Dep. Variable:     np.log(resale_price)   R-squared:                       0.722\n",
      "Model:                              OLS   Adj. R-squared:                  0.721\n",
      "Method:                   Least Squares   F-statistic:                     4952.\n",
      "Date:                  Fri, 13 Oct 2023   Prob (F-statistic):               0.00\n",
      "Time:                          20:55:16   Log-Likelihood:                 31642.\n",
      "No. Observations:                 51638   AIC:                        -6.323e+04\n",
      "Df Residuals:                     51610   BIC:                        -6.298e+04\n",
      "Df Model:                            27                                         \n",
      "Covariance Type:              nonrobust                                         \n",
      "===========================================================================================\n",
      "                              coef    std err          t      P>|t|      [0.025      0.975]\n",
      "-------------------------------------------------------------------------------------------\n",
      "Intercept                  11.8014      0.010   1150.107      0.000      11.781      11.821\n",
      "town[T.BEDOK]              -0.0614      0.004    -13.878      0.000      -0.070      -0.053\n",
      "town[T.BISHAN]              0.1194      0.005     22.944      0.000       0.109       0.130\n",
      "town[T.BUKIT BATOK]        -0.2433      0.005    -50.952      0.000      -0.253      -0.234\n",
      "town[T.BUKIT MERAH]         0.1916      0.005     40.676      0.000       0.182       0.201\n",
      "town[T.BUKIT PANJANG]      -0.3300      0.005    -72.607      0.000      -0.339      -0.321\n",
      "town[T.BUKIT TIMAH]         0.3050      0.012     24.720      0.000       0.281       0.329\n",
      "town[T.CENTRAL AREA]        0.3380      0.007     46.259      0.000       0.324       0.352\n",
      "town[T.CHOA CHU KANG]      -0.3904      0.004    -87.907      0.000      -0.399      -0.382\n",
      "town[T.CLEMENTI]            0.1165      0.005     21.650      0.000       0.106       0.127\n",
      "town[T.GEYLANG]             0.0602      0.005     11.406      0.000       0.050       0.071\n",
      "town[T.HOUGANG]            -0.2310      0.004    -53.176      0.000      -0.239      -0.222\n",
      "town[T.JURONG EAST]        -0.2014      0.006    -34.523      0.000      -0.213      -0.190\n",
      "town[T.JURONG WEST]        -0.3452      0.004    -80.604      0.000      -0.354      -0.337\n",
      "town[T.KALLANG/WHAMPOA]     0.1133      0.005     22.060      0.000       0.103       0.123\n",
      "town[T.MARINE PARADE]       0.2455      0.010     24.245      0.000       0.226       0.265\n",
      "town[T.PASIR RIS]          -0.2173      0.005    -43.637      0.000      -0.227      -0.208\n",
      "town[T.PUNGGOL]            -0.2895      0.004    -68.785      0.000      -0.298      -0.281\n",
      "town[T.QUEENSTOWN]          0.2365      0.005     46.865      0.000       0.227       0.246\n",
      "town[T.SEMBAWANG]          -0.4482      0.005    -86.760      0.000      -0.458      -0.438\n",
      "town[T.SENGKANG]           -0.3231      0.004    -78.234      0.000      -0.331      -0.315\n",
      "town[T.SERANGOON]          -0.0426      0.005     -7.939      0.000      -0.053      -0.032\n",
      "town[T.TAMPINES]           -0.1257      0.004    -29.851      0.000      -0.134      -0.117\n",
      "town[T.TOA PAYOH]           0.0981      0.005     19.135      0.000       0.088       0.108\n",
      "town[T.WOODLANDS]          -0.4223      0.004   -101.679      0.000      -0.430      -0.414\n",
      "town[T.YISHUN]             -0.3376      0.004    -82.689      0.000      -0.346      -0.330\n",
      "floor_area_sqm              0.0051   8.97e-05     57.339      0.000       0.005       0.005\n",
      "remain_lease_m              0.0010   4.77e-06    202.346      0.000       0.001       0.001\n",
      "==============================================================================\n",
      "Omnibus:                      370.421   Durbin-Watson:                   0.811\n",
      "Prob(Omnibus):                  0.000   Jarque-Bera (JB):              378.337\n",
      "Skew:                           0.210   Prob(JB):                     7.00e-83\n",
      "Kurtosis:                       2.984   Cond. No.                     3.06e+04\n",
      "==============================================================================\n",
      "\n",
      "Notes:\n",
      "[1] Standard Errors assume that the covariance matrix of the errors is correctly specified.\n",
      "[2] The condition number is large, 3.06e+04. This might indicate that there are\n",
      "strong multicollinearity or other numerical problems.\n",
      "\n",
      "=========================================\n",
      "                        log(resale_price)\n",
      "-----------------------------------------\n",
      "Intercept               11.8014***       \n",
      "                        (0.0103)         \n",
      "town[T.BEDOK]           -0.0614***       \n",
      "                        (0.0044)         \n",
      "town[T.BISHAN]          0.1194***        \n",
      "                        (0.0052)         \n",
      "town[T.BUKIT BATOK]     -0.2433***       \n",
      "                        (0.0048)         \n",
      "town[T.BUKIT MERAH]     0.1916***        \n",
      "                        (0.0047)         \n",
      "town[T.BUKIT PANJANG]   -0.3300***       \n",
      "                        (0.0045)         \n",
      "town[T.BUKIT TIMAH]     0.3050***        \n",
      "                        (0.0123)         \n",
      "town[T.CENTRAL AREA]    0.3380***        \n",
      "                        (0.0073)         \n",
      "town[T.CHOA CHU KANG]   -0.3904***       \n",
      "                        (0.0044)         \n",
      "town[T.CLEMENTI]        0.1165***        \n",
      "                        (0.0054)         \n",
      "town[T.GEYLANG]         0.0602***        \n",
      "                        (0.0053)         \n",
      "town[T.HOUGANG]         -0.2310***       \n",
      "                        (0.0043)         \n",
      "town[T.JURONG EAST]     -0.2014***       \n",
      "                        (0.0058)         \n",
      "town[T.JURONG WEST]     -0.3452***       \n",
      "                        (0.0043)         \n",
      "town[T.KALLANG/WHAMPOA] 0.1133***        \n",
      "                        (0.0051)         \n",
      "town[T.MARINE PARADE]   0.2455***        \n",
      "                        (0.0101)         \n",
      "town[T.PASIR RIS]       -0.2173***       \n",
      "                        (0.0050)         \n",
      "town[T.PUNGGOL]         -0.2895***       \n",
      "                        (0.0042)         \n",
      "town[T.QUEENSTOWN]      0.2365***        \n",
      "                        (0.0050)         \n",
      "town[T.SEMBAWANG]       -0.4482***       \n",
      "                        (0.0052)         \n",
      "town[T.SENGKANG]        -0.3231***       \n",
      "                        (0.0041)         \n",
      "town[T.SERANGOON]       -0.0426***       \n",
      "                        (0.0054)         \n",
      "town[T.TAMPINES]        -0.1257***       \n",
      "                        (0.0042)         \n",
      "town[T.TOA PAYOH]       0.0981***        \n",
      "                        (0.0051)         \n",
      "town[T.WOODLANDS]       -0.4223***       \n",
      "                        (0.0042)         \n",
      "town[T.YISHUN]          -0.3376***       \n",
      "                        (0.0041)         \n",
      "floor_area_sqm          0.0051***        \n",
      "                        (0.0001)         \n",
      "remain_lease_m          0.0010***        \n",
      "                        (0.0000)         \n",
      "R-squared               0.7215           \n",
      "R-squared Adj.          0.7214           \n",
      "=========================================\n",
      "Standard errors in parentheses.\n",
      "* p<.1, ** p<.05, ***p<.01\n"
     ]
    }
   ],
   "source": [
    "lm1b = smf.ols(\"np.log(resale_price) ~ town + floor_area_sqm + remain_lease_m\", data = resale_data).fit()\n",
    "print(lm1b.summary())\n",
    "print(summary_col(results = lm1b, stars = True, model_names = ['log(resale_price)']))"
   ]
  },
  {
   "cell_type": "markdown",
   "metadata": {
    "id": "ANJkcd-BUTYo"
   },
   "source": [
    "### **Hypothesis 2:** The effect of the number of adjacent hospitals on a flat's resale price depends on its location."
   ]
  },
  {
   "cell_type": "markdown",
   "metadata": {},
   "source": [
    "#### Linear regression model without interaction term"
   ]
  },
  {
   "cell_type": "code",
   "execution_count": 47,
   "metadata": {
    "id": "r_UANAxpUTYq",
    "outputId": "e7423a9a-2791-45e2-8a31-a75ba7e35841",
    "scrolled": true
   },
   "outputs": [
    {
     "name": "stdout",
     "output_type": "stream",
     "text": [
      "                             OLS Regression Results                             \n",
      "================================================================================\n",
      "Dep. Variable:     np.log(resale_price)   R-squared:                       0.567\n",
      "Model:                              OLS   Adj. R-squared:                  0.567\n",
      "Method:                   Least Squares   F-statistic:                 1.354e+04\n",
      "Date:                  Fri, 13 Oct 2023   Prob (F-statistic):               0.00\n",
      "Time:                          21:12:50   Log-Likelihood:                 20265.\n",
      "No. Observations:                 51638   AIC:                        -4.052e+04\n",
      "Df Residuals:                     51632   BIC:                        -4.046e+04\n",
      "Df Model:                             5                                         \n",
      "Covariance Type:              nonrobust                                         \n",
      "==================================================================================\n",
      "                     coef    std err          t      P>|t|      [0.025      0.975]\n",
      "----------------------------------------------------------------------------------\n",
      "Intercept         11.8286      0.012   1004.527      0.000      11.805      11.852\n",
      "central            0.3784      0.002    188.364      0.000       0.374       0.382\n",
      "n_hospitals        0.0257      0.001     42.513      0.000       0.025       0.027\n",
      "floor_area_sqm     0.0046      0.000     44.314      0.000       0.004       0.005\n",
      "remain_lease_m     0.0006   5.22e-06    105.754      0.000       0.001       0.001\n",
      "average_level      0.0178      0.000     76.635      0.000       0.017       0.018\n",
      "==============================================================================\n",
      "Omnibus:                     1495.787   Durbin-Watson:                   0.496\n",
      "Prob(Omnibus):                  0.000   Jarque-Bera (JB):             1631.594\n",
      "Skew:                           0.424   Prob(JB):                         0.00\n",
      "Kurtosis:                       3.201   Cond. No.                     1.57e+04\n",
      "==============================================================================\n",
      "\n",
      "Notes:\n",
      "[1] Standard Errors assume that the covariance matrix of the errors is correctly specified.\n",
      "[2] The condition number is large, 1.57e+04. This might indicate that there are\n",
      "strong multicollinearity or other numerical problems.\n"
     ]
    }
   ],
   "source": [
    "lm2a = smf.ols(\"np.log(resale_price) ~ central + n_hospitals + floor_area_sqm + remain_lease_m + average_level \", data = resale_data).fit()\n",
    "print(lm2a.summary())"
   ]
  },
  {
   "cell_type": "markdown",
   "metadata": {},
   "source": [
    "#### Linear regression model with interaction term `central * n_hospitals`"
   ]
  },
  {
   "cell_type": "code",
   "execution_count": 48,
   "metadata": {
    "id": "HlbaUsRSUTYo",
    "outputId": "3530b3f3-70a1-4d50-d8ff-34250074d52f"
   },
   "outputs": [
    {
     "name": "stdout",
     "output_type": "stream",
     "text": [
      "                             OLS Regression Results                             \n",
      "================================================================================\n",
      "Dep. Variable:     np.log(resale_price)   R-squared:                       0.568\n",
      "Model:                              OLS   Adj. R-squared:                  0.568\n",
      "Method:                   Least Squares   F-statistic:                 1.132e+04\n",
      "Date:                  Fri, 13 Oct 2023   Prob (F-statistic):               0.00\n",
      "Time:                          21:13:04   Log-Likelihood:                 20307.\n",
      "No. Observations:                 51638   AIC:                        -4.060e+04\n",
      "Df Residuals:                     51631   BIC:                        -4.054e+04\n",
      "Df Model:                             6                                         \n",
      "Covariance Type:              nonrobust                                         \n",
      "=======================================================================================\n",
      "                          coef    std err          t      P>|t|      [0.025      0.975]\n",
      "---------------------------------------------------------------------------------------\n",
      "Intercept              11.8370      0.012   1003.045      0.000      11.814      11.860\n",
      "central                 0.3624      0.003    136.639      0.000       0.357       0.368\n",
      "n_hospitals             0.0228      0.001     33.265      0.000       0.021       0.024\n",
      "central:n_hospitals     0.0133      0.001      9.204      0.000       0.010       0.016\n",
      "floor_area_sqm          0.0045      0.000     43.348      0.000       0.004       0.005\n",
      "remain_lease_m          0.0006   5.24e-06    106.236      0.000       0.001       0.001\n",
      "average_level           0.0177      0.000     76.219      0.000       0.017       0.018\n",
      "==============================================================================\n",
      "Omnibus:                     1467.321   Durbin-Watson:                   0.495\n",
      "Prob(Omnibus):                  0.000   Jarque-Bera (JB):             1596.135\n",
      "Skew:                           0.422   Prob(JB):                         0.00\n",
      "Kurtosis:                       3.175   Cond. No.                     1.58e+04\n",
      "==============================================================================\n",
      "\n",
      "Notes:\n",
      "[1] Standard Errors assume that the covariance matrix of the errors is correctly specified.\n",
      "[2] The condition number is large, 1.58e+04. This might indicate that there are\n",
      "strong multicollinearity or other numerical problems.\n"
     ]
    }
   ],
   "source": [
    "lm2b = smf.ols(\"np.log(resale_price) ~ central + n_hospitals + central * n_hospitals + floor_area_sqm + remain_lease_m + average_level\", data = resale_data).fit()\n",
    "print(lm2b.summary())"
   ]
  },
  {
   "cell_type": "markdown",
   "metadata": {
    "id": "W-H5WI6kUTYr"
   },
   "source": [
    "<u><b>Note:</b></u> Since independent variables are not time-varying, fixed effects are not applied on this model."
   ]
  },
  {
   "cell_type": "code",
   "execution_count": 49,
   "metadata": {
    "id": "0OSXtI5cUTYs",
    "outputId": "4660f658-f7e6-47d5-8bb2-746ec3c0a05b"
   },
   "outputs": [
    {
     "name": "stdout",
     "output_type": "stream",
     "text": [
      "\n",
      "==============================================================\n",
      "                    W/o interaction term With interaction term\n",
      "--------------------------------------------------------------\n",
      "Intercept           11.8286***           11.8370***           \n",
      "                    (0.0118)             (0.0118)             \n",
      "R-squared           0.5673               0.5680               \n",
      "R-squared Adj.      0.5673               0.5680               \n",
      "average_level       0.0178***            0.0177***            \n",
      "                    (0.0002)             (0.0002)             \n",
      "central             0.3784***            0.3624***            \n",
      "                    (0.0020)             (0.0027)             \n",
      "central:n_hospitals                      0.0133***            \n",
      "                                         (0.0014)             \n",
      "floor_area_sqm      0.0046***            0.0045***            \n",
      "                    (0.0001)             (0.0001)             \n",
      "n_hospitals         0.0257***            0.0228***            \n",
      "                    (0.0006)             (0.0007)             \n",
      "remain_lease_m      0.0006***            0.0006***            \n",
      "                    (0.0000)             (0.0000)             \n",
      "==============================================================\n",
      "Standard errors in parentheses.\n",
      "* p<.1, ** p<.05, ***p<.01\n"
     ]
    }
   ],
   "source": [
    "print(summary_col([lm2a,lm2b], stars = True, model_names = ['W/o interaction term','With interaction term']))"
   ]
  },
  {
   "cell_type": "markdown",
   "metadata": {
    "id": "kzw2Gmx4UTYt"
   },
   "source": [
    "### Hypothesis 3: The effect of the number of adjacent MRTs on a flat's resale price depends on its location."
   ]
  },
  {
   "cell_type": "markdown",
   "metadata": {},
   "source": [
    "#### Linear regression model without interaction term"
   ]
  },
  {
   "cell_type": "code",
   "execution_count": 59,
   "metadata": {
    "id": "7rI8Cfc4UTYt",
    "outputId": "dd96638e-c6ea-425a-fc94-3db32a9e2319",
    "scrolled": true
   },
   "outputs": [
    {
     "name": "stdout",
     "output_type": "stream",
     "text": [
      "                             OLS Regression Results                             \n",
      "================================================================================\n",
      "Dep. Variable:     np.log(resale_price)   R-squared:                       0.566\n",
      "Model:                              OLS   Adj. R-squared:                  0.566\n",
      "Method:                   Least Squares   F-statistic:                 1.344e+04\n",
      "Date:                  Fri, 13 Oct 2023   Prob (F-statistic):               0.00\n",
      "Time:                          21:23:28   Log-Likelihood:                 20162.\n",
      "No. Observations:                 51638   AIC:                        -4.031e+04\n",
      "Df Residuals:                     51632   BIC:                        -4.026e+04\n",
      "Df Model:                             5                                         \n",
      "Covariance Type:              nonrobust                                         \n",
      "==================================================================================\n",
      "                     coef    std err          t      P>|t|      [0.025      0.975]\n",
      "----------------------------------------------------------------------------------\n",
      "Intercept         11.8024      0.012    994.651      0.000      11.779      11.826\n",
      "central            0.3214      0.002    132.171      0.000       0.317       0.326\n",
      "n_mrt              0.0127      0.000     39.947      0.000       0.012       0.013\n",
      "floor_area_sqm     0.0040      0.000     38.861      0.000       0.004       0.004\n",
      "remain_lease_m     0.0006    5.2e-06    124.320      0.000       0.001       0.001\n",
      "average_level      0.0172      0.000     73.491      0.000       0.017       0.018\n",
      "==============================================================================\n",
      "Omnibus:                      780.853   Durbin-Watson:                   0.489\n",
      "Prob(Omnibus):                  0.000   Jarque-Bera (JB):              823.610\n",
      "Skew:                           0.294   Prob(JB):                    1.43e-179\n",
      "Kurtosis:                       3.192   Cond. No.                     1.58e+04\n",
      "==============================================================================\n",
      "\n",
      "Notes:\n",
      "[1] Standard Errors assume that the covariance matrix of the errors is correctly specified.\n",
      "[2] The condition number is large, 1.58e+04. This might indicate that there are\n",
      "strong multicollinearity or other numerical problems.\n"
     ]
    }
   ],
   "source": [
    "lm3a = smf.ols(\"np.log(resale_price) ~ central + n_mrt + floor_area_sqm + remain_lease_m + average_level \", data = resale_data).fit()\n",
    "print(lm3a.summary())"
   ]
  },
  {
   "cell_type": "markdown",
   "metadata": {},
   "source": [
    "#### Linear regression model with interaction term `central * n_mrt`"
   ]
  },
  {
   "cell_type": "code",
   "execution_count": 60,
   "metadata": {
    "id": "JandWmT2UTYu",
    "outputId": "351347f9-aa94-423e-9f81-03403a265083",
    "scrolled": true
   },
   "outputs": [
    {
     "name": "stdout",
     "output_type": "stream",
     "text": [
      "                             OLS Regression Results                             \n",
      "================================================================================\n",
      "Dep. Variable:     np.log(resale_price)   R-squared:                       0.567\n",
      "Model:                              OLS   Adj. R-squared:                  0.567\n",
      "Method:                   Least Squares   F-statistic:                 1.126e+04\n",
      "Date:                  Fri, 13 Oct 2023   Prob (F-statistic):               0.00\n",
      "Time:                          21:23:37   Log-Likelihood:                 20235.\n",
      "No. Observations:                 51638   AIC:                        -4.046e+04\n",
      "Df Residuals:                     51631   BIC:                        -4.039e+04\n",
      "Df Model:                             6                                         \n",
      "Covariance Type:              nonrobust                                         \n",
      "==================================================================================\n",
      "                     coef    std err          t      P>|t|      [0.025      0.975]\n",
      "----------------------------------------------------------------------------------\n",
      "Intercept         11.7781      0.012    979.868      0.000      11.755      11.802\n",
      "central            0.3563      0.004     94.449      0.000       0.349       0.364\n",
      "n_mrt              0.0174      0.000     34.869      0.000       0.016       0.018\n",
      "central:n_mrt     -0.0080      0.001    -12.068      0.000      -0.009      -0.007\n",
      "floor_area_sqm     0.0040      0.000     38.284      0.000       0.004       0.004\n",
      "remain_lease_m     0.0007   5.42e-06    122.748      0.000       0.001       0.001\n",
      "average_level      0.0174      0.000     74.320      0.000       0.017       0.018\n",
      "==============================================================================\n",
      "Omnibus:                      811.704   Durbin-Watson:                   0.492\n",
      "Prob(Omnibus):                  0.000   Jarque-Bera (JB):              863.020\n",
      "Skew:                           0.296   Prob(JB):                    3.96e-188\n",
      "Kurtosis:                       3.227   Cond. No.                     1.60e+04\n",
      "==============================================================================\n",
      "\n",
      "Notes:\n",
      "[1] Standard Errors assume that the covariance matrix of the errors is correctly specified.\n",
      "[2] The condition number is large, 1.6e+04. This might indicate that there are\n",
      "strong multicollinearity or other numerical problems.\n"
     ]
    }
   ],
   "source": [
    "lm3b = smf.ols(\"np.log(resale_price) ~ central + n_mrt + central * n_mrt + floor_area_sqm + remain_lease_m + average_level \", data = resale_data).fit()\n",
    "print(lm3b.summary())"
   ]
  },
  {
   "cell_type": "code",
   "execution_count": 61,
   "metadata": {
    "id": "mkCtxA1vUTYv",
    "outputId": "281f9016-90dc-48da-a1bf-71665e3da983",
    "scrolled": true
   },
   "outputs": [
    {
     "name": "stdout",
     "output_type": "stream",
     "text": [
      "\n",
      "=========================================================\n",
      "               W/o interaction term With interaction term\n",
      "---------------------------------------------------------\n",
      "Intercept      11.8024***           11.7781***           \n",
      "               (0.0119)             (0.0120)             \n",
      "R-squared      0.5656               0.5668               \n",
      "R-squared Adj. 0.5656               0.5668               \n",
      "average_level  0.0172***            0.0174***            \n",
      "               (0.0002)             (0.0002)             \n",
      "central        0.3214***            0.3563***            \n",
      "               (0.0024)             (0.0038)             \n",
      "central:n_mrt                       -0.0080***           \n",
      "                                    (0.0007)             \n",
      "floor_area_sqm 0.0040***            0.0040***            \n",
      "               (0.0001)             (0.0001)             \n",
      "n_mrt          0.0127***            0.0174***            \n",
      "               (0.0003)             (0.0005)             \n",
      "remain_lease_m 0.0006***            0.0007***            \n",
      "               (0.0000)             (0.0000)             \n",
      "=========================================================\n",
      "Standard errors in parentheses.\n",
      "* p<.1, ** p<.05, ***p<.01\n"
     ]
    }
   ],
   "source": [
    "print(summary_col([lm3a,lm3b], stars = True, model_names = ['W/o interaction term','With interaction term']))"
   ]
  },
  {
   "cell_type": "markdown",
   "metadata": {
    "id": "a6_Eg78OUTYx"
   },
   "source": [
    "### Hypothesis 4: The effect of the number of adjacent MRTs on a flat's resale price depends on its location."
   ]
  },
  {
   "cell_type": "markdown",
   "metadata": {},
   "source": [
    "#### Linear regression model without interaction term"
   ]
  },
  {
   "cell_type": "code",
   "execution_count": 62,
   "metadata": {
    "id": "7rI8Cfc4UTYt",
    "outputId": "dd96638e-c6ea-425a-fc94-3db32a9e2319",
    "scrolled": true
   },
   "outputs": [
    {
     "name": "stdout",
     "output_type": "stream",
     "text": [
      "                             OLS Regression Results                             \n",
      "================================================================================\n",
      "Dep. Variable:     np.log(resale_price)   R-squared:                       0.552\n",
      "Model:                              OLS   Adj. R-squared:                  0.552\n",
      "Method:                   Least Squares   F-statistic:                 1.592e+04\n",
      "Date:                  Fri, 13 Oct 2023   Prob (F-statistic):               0.00\n",
      "Time:                          21:35:57   Log-Likelihood:                 19376.\n",
      "No. Observations:                 51638   AIC:                        -3.874e+04\n",
      "Df Residuals:                     51633   BIC:                        -3.870e+04\n",
      "Df Model:                             4                                         \n",
      "Covariance Type:              nonrobust                                         \n",
      "==================================================================================\n",
      "                     coef    std err          t      P>|t|      [0.025      0.975]\n",
      "----------------------------------------------------------------------------------\n",
      "Intercept         11.8617      0.012    992.352      0.000      11.838      11.885\n",
      "central            0.3760      0.002    184.072      0.000       0.372       0.380\n",
      "average_level      0.0179      0.000     75.861      0.000       0.017       0.018\n",
      "floor_area_sqm     0.0041      0.000     38.989      0.000       0.004       0.004\n",
      "remain_lease_m     0.0006   5.16e-06    116.824      0.000       0.001       0.001\n",
      "==============================================================================\n",
      "Omnibus:                      795.194   Durbin-Watson:                   0.483\n",
      "Prob(Omnibus):                  0.000   Jarque-Bera (JB):              832.029\n",
      "Skew:                           0.310   Prob(JB):                    2.12e-181\n",
      "Kurtosis:                       3.052   Cond. No.                     1.57e+04\n",
      "==============================================================================\n",
      "\n",
      "Notes:\n",
      "[1] Standard Errors assume that the covariance matrix of the errors is correctly specified.\n",
      "[2] The condition number is large, 1.57e+04. This might indicate that there are\n",
      "strong multicollinearity or other numerical problems.\n"
     ]
    }
   ],
   "source": [
    "lm4a = smf.ols(\"np.log(resale_price) ~ central + average_level + floor_area_sqm + remain_lease_m \", data = resale_data).fit()\n",
    "print(lm4a.summary())"
   ]
  },
  {
   "cell_type": "markdown",
   "metadata": {},
   "source": [
    "#### Linear regression model with interaction term `central * average_level`"
   ]
  },
  {
   "cell_type": "code",
   "execution_count": 63,
   "metadata": {
    "id": "JandWmT2UTYu",
    "outputId": "351347f9-aa94-423e-9f81-03403a265083",
    "scrolled": true
   },
   "outputs": [
    {
     "name": "stdout",
     "output_type": "stream",
     "text": [
      "                             OLS Regression Results                             \n",
      "================================================================================\n",
      "Dep. Variable:     np.log(resale_price)   R-squared:                       0.554\n",
      "Model:                              OLS   Adj. R-squared:                  0.554\n",
      "Method:                   Least Squares   F-statistic:                 1.283e+04\n",
      "Date:                  Fri, 13 Oct 2023   Prob (F-statistic):               0.00\n",
      "Time:                          21:36:30   Log-Likelihood:                 19485.\n",
      "No. Observations:                 51638   AIC:                        -3.896e+04\n",
      "Df Residuals:                     51632   BIC:                        -3.890e+04\n",
      "Df Model:                             5                                         \n",
      "Covariance Type:              nonrobust                                         \n",
      "=========================================================================================\n",
      "                            coef    std err          t      P>|t|      [0.025      0.975]\n",
      "-----------------------------------------------------------------------------------------\n",
      "Intercept                11.8803      0.012    990.479      0.000      11.857      11.904\n",
      "central                   0.3241      0.004     79.727      0.000       0.316       0.332\n",
      "average_level             0.0155      0.000     54.253      0.000       0.015       0.016\n",
      "central:average_level     0.0069      0.000     14.747      0.000       0.006       0.008\n",
      "floor_area_sqm            0.0041      0.000     38.807      0.000       0.004       0.004\n",
      "remain_lease_m            0.0006   5.15e-06    116.887      0.000       0.001       0.001\n",
      "==============================================================================\n",
      "Omnibus:                      919.171   Durbin-Watson:                   0.478\n",
      "Prob(Omnibus):                  0.000   Jarque-Bera (JB):              968.519\n",
      "Skew:                           0.333   Prob(JB):                    4.88e-211\n",
      "Kurtosis:                       3.083   Cond. No.                     1.58e+04\n",
      "==============================================================================\n",
      "\n",
      "Notes:\n",
      "[1] Standard Errors assume that the covariance matrix of the errors is correctly specified.\n",
      "[2] The condition number is large, 1.58e+04. This might indicate that there are\n",
      "strong multicollinearity or other numerical problems.\n"
     ]
    }
   ],
   "source": [
    "lm4b = smf.ols(\"np.log(resale_price) ~ central + average_level + central * average_level + floor_area_sqm + remain_lease_m \", data = resale_data).fit()\n",
    "print(lm4b.summary())"
   ]
  },
  {
   "cell_type": "code",
   "execution_count": 64,
   "metadata": {
    "id": "mkCtxA1vUTYv",
    "outputId": "281f9016-90dc-48da-a1bf-71665e3da983",
    "scrolled": true
   },
   "outputs": [
    {
     "name": "stdout",
     "output_type": "stream",
     "text": [
      "\n",
      "================================================================\n",
      "                      W/o interaction term With interaction term\n",
      "----------------------------------------------------------------\n",
      "Intercept             11.8617***           11.8803***           \n",
      "                      (0.0120)             (0.0120)             \n",
      "R-squared             0.5522               0.5540               \n",
      "R-squared Adj.        0.5521               0.5540               \n",
      "average_level         0.0179***            0.0155***            \n",
      "                      (0.0002)             (0.0003)             \n",
      "central               0.3760***            0.3241***            \n",
      "                      (0.0020)             (0.0041)             \n",
      "central:average_level                      0.0069***            \n",
      "                                           (0.0005)             \n",
      "floor_area_sqm        0.0041***            0.0041***            \n",
      "                      (0.0001)             (0.0001)             \n",
      "remain_lease_m        0.0006***            0.0006***            \n",
      "                      (0.0000)             (0.0000)             \n",
      "================================================================\n",
      "Standard errors in parentheses.\n",
      "* p<.1, ** p<.05, ***p<.01\n"
     ]
    }
   ],
   "source": [
    "print(summary_col([lm4a,lm4b], stars = True, model_names = ['W/o interaction term','With interaction term']))"
   ]
  }
 ],
 "metadata": {
  "colab": {
   "provenance": []
  },
  "kernelspec": {
   "display_name": "Python 3 (ipykernel)",
   "language": "python",
   "name": "python3"
  },
  "language_info": {
   "codemirror_mode": {
    "name": "ipython",
    "version": 3
   },
   "file_extension": ".py",
   "mimetype": "text/x-python",
   "name": "python",
   "nbconvert_exporter": "python",
   "pygments_lexer": "ipython3",
   "version": "3.11.4"
  }
 },
 "nbformat": 4,
 "nbformat_minor": 1
}
