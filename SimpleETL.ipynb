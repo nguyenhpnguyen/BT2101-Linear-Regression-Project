{
 "cells": [
  {
   "cell_type": "markdown",
   "metadata": {},
   "source": [
    "# Data Preparation"
   ]
  },
  {
   "cell_type": "markdown",
   "metadata": {},
   "source": [
    "## Extract Data\n",
    "Data Source URL: https://beta.data.gov.sg/collections/189/view\n",
    "\n",
    "API Documentation: https://guide.data.gov.sg/developer-guide/api-v2"
   ]
  },
  {
   "cell_type": "code",
   "execution_count": 53,
   "metadata": {
    "colab": {
     "base_uri": "https://localhost:8080/"
    },
    "id": "nGALsZAKGS7M",
    "outputId": "c1e3eacf-8d26-494b-84c4-8a7669a93f56"
   },
   "outputs": [],
   "source": [
    "import pandas as pd\n",
    "import requests"
   ]
  },
  {
   "cell_type": "code",
   "execution_count": 85,
   "metadata": {
    "colab": {
     "base_uri": "https://localhost:8080/"
    },
    "id": "nGALsZAKGS7M",
    "outputId": "c1e3eacf-8d26-494b-84c4-8a7669a93f56"
   },
   "outputs": [],
   "source": [
    "def extract_data() -> pd.DataFrame:\n",
    "    offset_limit = 0\n",
    "    df = []\n",
    "    url = 'https://data.gov.sg/api/action/datastore_search?resource_id=d_8b84c4ee58e3cfc0ece0d773c8ca6abc'\n",
    "    \n",
    "    # Loop through the results and add if present (the default max number of rows to return is 100)\n",
    "    while True:\n",
    "        querystring = {\"offset\": \"{}\".format(offset_limit), \"filters\": \"{\\\"flat_type\\\": \\\"4 ROOM\\\"}\", \"limit\": \"5000\"}\n",
    "        response = requests.get(url=url, params=querystring)\n",
    "        data = response.json()['result']['records']\n",
    "\n",
    "        # If there are no more records\n",
    "        if len(data) == 0:\n",
    "            break\n",
    "        # else add the data to the main list df\n",
    "        df.extend(data)\n",
    "        # Increase offset_limit to skip the already added data\n",
    "        offset_limit = offset_limit + 5000\n",
    "\n",
    "    return pd.DataFrame(df).drop(columns=['_id'])"
   ]
  },
  {
   "cell_type": "markdown",
   "metadata": {
    "id": "mF6jSZ1pGm_X"
   },
   "source": [
    "## Transform Data"
   ]
  },
  {
   "cell_type": "code",
   "execution_count": 1,
   "metadata": {},
   "outputs": [],
   "source": [
    "import numpy as np"
   ]
  },
  {
   "cell_type": "code",
   "execution_count": 85,
   "metadata": {
    "colab": {
     "base_uri": "https://localhost:8080/"
    },
    "id": "nGALsZAKGS7M",
    "outputId": "c1e3eacf-8d26-494b-84c4-8a7669a93f56"
   },
   "outputs": [],
   "source": [
    "def transform_data(df: pd.DataFrame) -> pd.DataFrame:\n",
    "    \n",
    "    # Change the unit of `remaining_lease` from years-months to months\n",
    "    years = df['remaining_lease'].apply(lambda x: pd.to_numeric(x[0:2]))\n",
    "    months = df['remaining_lease'].apply(lambda x: pd.to_numeric(x[9:11]) if len(x) > 8 else pd.to_numeric('00'))\n",
    "    df['remaining_lease'] = (years * 12) + months\n",
    "    \n",
    "    # Merge 26 towns into 5 bigger regions\n",
    "    central = ['CENTRAL AREA', 'BUKIT TIMAH']\n",
    "    rest_of_central = ['BISHAN', 'GEYLANG', 'KALLANG/WHAMPOA','MARINE PARADE','QUEENSTOWN','TOA PAYOH','BUKIT MERAH']\n",
    "    near_central = ['CLEMENTI','BUKIT BATOK','BUKIT PANJANG','ANG MO KIO','SERANGOON','HOUGANG','BEDOK']\n",
    "    further_central = ['JURONG EAST','CHOA CHU KANG','SENGKANG','YISHUN','TAMPINES']\n",
    "    far_central = ['JURONG WEST','PASIR RIS','PUNGGOL','SEMBAWANG','WOODLANDS']\n",
    "    region = [central, rest_of_central, near_central, further_central, far_central]\n",
    "    def region_finder(x):\n",
    "        for i in range(4):\n",
    "            if x in region[i]:\n",
    "                break\n",
    "        return i\n",
    "    df['proximity_to_ctr'] = df['town'].apply(region_finder)\n",
    "    \n",
    "    # Create new variable `central` (1 if the flat is located in the Central region, 0 otherwise)\n",
    "    df['central'] = df['proximity_to_ctr'].apply(lambda x: 1 if (x < 2) else 0)\n",
    "    \n",
    "    # Create new variable `average_level` from `storey_range` (format \"xx TO xx\" e.g. \"10 TO 12\" means level 10/11/12)\n",
    "    def range_to_lvl(x):\n",
    "        x = (int(x[:2]) + int(x[7:])) / 2\n",
    "        return x\n",
    "    df['average_level'] = df['storey_range'].apply(range_to_lvl)\n",
    "    \n",
    "    # Create new variable `n_hospitals` representing the number of hospitals in the same town as the flat observed\n",
    "    cond = [(df['town'] == 'ANG MO KIO'), (df['town'] == 'BEDOK'), (df['town'] == 'BISHAN'), (df['town'] == 'BUKIT BATOK'),\n",
    "            (df['town'] == 'BUKIT MERAH'), (df['town'] == 'BUKIT PANJANG'), (df['town'] == 'BUKIT TIMAH'),\n",
    "            (df['town'] == 'CENTRAL AREA'), (df['town'] == 'CHOA CHU KANG'), (df['town'] == 'CLEMENTI'),\n",
    "            (df['town'] == 'GEYLANG'), (df['town'] == 'HOUGANG'), (df['town'] == 'JURONG EAST'), (df['town'] == 'JURONG WEST'),\n",
    "            (df['town'] == 'KALLANG/WHAMPOA'), (df['town'] == 'MARINE PARADE'), (df['town'] == 'PASIR RIS'), \n",
    "            (df['town'] == 'PUNGGOL'), (df['town'] == 'QUEENSTOWN'), (df['town'] == 'SEMBAWANG'), (df['town'] == 'SENGKANG'),\n",
    "            (df['town'] == 'SERANGOON'), (df['town'] == 'TAMPINES'), (df['town'] == 'TOA PAYOH'), (df['town'] == 'WOODLANDS'),\n",
    "            (df['town'] == 'YISHUN')]\n",
    "    val = [2, 0, 1, 1, 3, 0, 7, 3, 0, 1, 0, 1, 2, 0, 0, 1, 0, 3, 1, 0, 3, 1, 2, 0, 0, 2]\n",
    "    df['n_hospitals'] = np.select(cond, val)\n",
    "    \n",
    "    # Create new variable `n_mrt` representing the number of MRT stations in the same town as the flat observed\n",
    "    cond2 = [(df['town'] == 'ANG MO KIO'), (df['town'] == 'BEDOK'), (df['town'] == 'BISHAN'), (df['town'] == 'BUKIT BATOK'),\n",
    "            (df['town'] == 'BUKIT MERAH'), (df['town'] == 'BUKIT PANJANG'), (df['town'] == 'BUKIT TIMAH'),\n",
    "            (df['town'] == 'CENTRAL AREA'), (df['town'] == 'CHOA CHU KANG'), (df['town'] == 'CLEMENTI'),\n",
    "            (df['town'] == 'GEYLANG'), (df['town'] == 'HOUGANG'), (df['town'] == 'JURONG EAST'), (df['town'] == 'JURONG WEST'),\n",
    "            (df['town'] == 'KALLANG/WHAMPOA'), (df['town'] == 'MARINE PARADE'), (df['town'] == 'PASIR RIS'), \n",
    "            (df['town'] == 'PUNGGOL'), (df['town'] == 'QUEENSTOWN'), (df['town'] == 'SEMBAWANG'), (df['town'] == 'SENGKANG'),\n",
    "            (df['town'] == 'SERANGOON'), (df['town'] == 'TAMPINES'), (df['town'] == 'TOA PAYOH'), (df['town'] == 'WOODLANDS'),\n",
    "            (df['town'] == 'YISHUN')]\n",
    "    val2 = [3, 5, 4, 2, 7, 2, 8, 23, 2, 1, 8, 3, 4, 1, 4, 3, 1, 1, 9, 2, 0, 2, 6, 4, 4, 3]\n",
    "    df['n_mrt'] = np.select(cond2, val2)\n",
    "\n",
    "    return pd.DataFrame(df).drop(columns=['town', 'storey_range', 'month', 'street_name'])"
   ]
  },
  {
   "cell_type": "markdown",
   "metadata": {},
   "source": [
    "## Load Data"
   ]
  },
  {
   "cell_type": "code",
   "execution_count": 16,
   "metadata": {
    "id": "B_n8J_7_UTYj"
   },
   "outputs": [],
   "source": [
    "def load_data(df: pd.DataFrame):\n",
    "    df.to_csv(r'resale-flat-prices-updated.csv')"
   ]
  },
  {
   "cell_type": "code",
   "execution_count": null,
   "metadata": {},
   "outputs": [],
   "source": [
    "data = extract_data()\n",
    "data = transform_data(data)\n",
    "load_data(data)"
   ]
  }
 ],
 "metadata": {
  "colab": {
   "provenance": []
  },
  "kernelspec": {
   "display_name": "Python 3 (ipykernel)",
   "language": "python",
   "name": "python3"
  },
  "language_info": {
   "codemirror_mode": {
    "name": "ipython",
    "version": 3
   },
   "file_extension": ".py",
   "mimetype": "text/x-python",
   "name": "python",
   "nbconvert_exporter": "python",
   "pygments_lexer": "ipython3",
   "version": "3.11.4"
  }
 },
 "nbformat": 4,
 "nbformat_minor": 1
}
